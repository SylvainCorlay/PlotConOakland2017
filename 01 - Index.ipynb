{
 "cells": [
  {
   "cell_type": "markdown",
   "metadata": {},
   "source": [
    "# PlotCon Oakland\n",
    "\n",
    "#### May 4th, 2017 // Oakland"
   ]
  },
  {
   "cell_type": "markdown",
   "metadata": {},
   "source": [
    "## A little bit about myself\n",
    "\n",
    "Applied Mathematician\n",
    "\n",
    " - Probability Theory, Continuous-time Stochastic Analysis\n",
    " - Mathematical finance (cf. list of journal articles and talks), Computational economics\n",
    " - Quant, Adjunct faculty at Columbia and NYU\n",
    "\n",
    "Open-Source Developer\n",
    "\n",
    " - Core contributor and Steering Committee member of the **Jupyter** Project\n",
    " - Co-author of the **xtensor** C++ tensor algebra library.\n",
    " - Contributor to spyder, **bqplot**, **pythreejs**, **ipyleaflet**\n",
    " - Python scientific stack, JS front-end development and data visualization- Core contributor to spyder, bqplot, pythreejs, ipyleaflet\n",
    "\n",
    "Contact\n",
    "\n",
    " - https://twitter.com/SylvainCorlay\n",
    " - https://github.com/SylvainCorlay"
   ]
  },
  {
   "cell_type": "markdown",
   "metadata": {},
   "source": [
    "### *The Purpose of Computing is Insight, not Numbers* -- Richard Hamming"
   ]
  }
 ],
 "metadata": {
  "kernelspec": {
   "display_name": "Python 3",
   "language": "python",
   "name": "python3"
  },
  "language_info": {
   "codemirror_mode": {
    "name": "ipython",
    "version": 3
   },
   "file_extension": ".py",
   "mimetype": "text/x-python",
   "name": "python",
   "nbconvert_exporter": "python",
   "pygments_lexer": "ipython3",
   "version": "3.6.0"
  },
  "widgets": {
   "state": {},
   "version": "1.1.2"
  }
 },
 "nbformat": 4,
 "nbformat_minor": 1
}
