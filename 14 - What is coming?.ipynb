{
 "cells": [
  {
   "cell_type": "markdown",
   "metadata": {},
   "source": [
    "## With ipywidgets 7.0\n",
    "\n",
    "1. Latest JupyterLab support\n",
    "2. Binary serialization\n",
    "3. Formal specification of widget model schemas to improve other kernels support\n",
    "4. Various bug fixes\n",
    "\n",
    "## And later?\n",
    "\n",
    "1. Xeus: a C++ Framework for writing kernels, and applications with Jupyter protocols\n",
    "\n",
    "   - Xeus will support interactive widgets in native C++ code.\n",
    "   - Xeus - Cling: Native C++ kernel based on CERN's cling interpreter.\n",
    "\n",
    "2. More 3-D plotting\n",
    "\n",
    "Synergies between pythreejs, ipyvolyme, pythreejs and OpenDreamkit grant to improve the state of 3-D plotting in Jupyter.\n",
    "\n",
    "3. Better matplotlib support with interations\n",
    "\n",
    "   - ipympl"
   ]
  },
  {
   "cell_type": "code",
   "execution_count": null,
   "metadata": {
    "collapsed": true
   },
   "outputs": [],
   "source": []
  }
 ],
 "metadata": {
  "kernelspec": {
   "display_name": "Python 3",
   "language": "python",
   "name": "python3"
  },
  "language_info": {
   "codemirror_mode": {
    "name": "ipython",
    "version": 3
   },
   "file_extension": ".py",
   "mimetype": "text/x-python",
   "name": "python",
   "nbconvert_exporter": "python",
   "pygments_lexer": "ipython3",
   "version": "3.6.0"
  }
 },
 "nbformat": 4,
 "nbformat_minor": 2
}
