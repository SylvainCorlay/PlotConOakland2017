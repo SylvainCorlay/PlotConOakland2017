{
 "cells": [
  {
   "cell_type": "markdown",
   "metadata": {},
   "source": [
    "# What is New in ipywidgets 6.0?"
   ]
  },
  {
   "cell_type": "code",
   "execution_count": 2,
   "metadata": {
    "scrolled": true
   },
   "outputs": [
    {
     "data": {
      "application/vnd.jupyter.widget-view+json": {
       "model_id": "84f68da548144991aecfbde50b0fa4cc"
      }
     },
     "metadata": {},
     "output_type": "display_data"
    }
   ],
   "source": [
    "from ipywidgets import VBox, jsdlink, IntSlider, HTML, Layout\n",
    "\n",
    "s1 = IntSlider(description='Maximum', min=100, max=200, value=100)\n",
    "s2 = IntSlider(description='Value', value=40)\n",
    "jsdlink((s1, 'value'), (s2, 'max'))\n",
    "VBox([s1, s2])"
   ]
  },
  {
   "cell_type": "code",
   "execution_count": 4,
   "metadata": {},
   "outputs": [
    {
     "data": {
      "application/vnd.jupyter.widget-view+json": {
       "model_id": "f5f57bff331e423786d37865d9459439"
      }
     },
     "metadata": {},
     "output_type": "display_data"
    }
   ],
   "source": [
    "import numpy as np\n",
    "from bqplot import pyplot as plt\n",
    "\n",
    "n = 100\n",
    "plt.figure(layout=Layout(width='800px', height='400px'))\n",
    "plt.scatter(np.random.randn(n), np.random.randn(n))\n",
    "plt.show()"
   ]
  },
  {
   "cell_type": "markdown",
   "metadata": {},
   "source": [
    "# HTML Code\n",
    "\n",
    "```HTML\n",
    "<html>\n",
    "    <head>\n",
    "    <meta http-equiv=\"content-type\" content=\"text/html; charset=UTF8\">\n",
    "    \n",
    "    <style>\n",
    "    body {\n",
    "        margin-left: auto;\n",
    "        margin-right: auto;\n",
    "        max-width: 900px;\n",
    "        background-color: #eee;\n",
    "        font-family: sans-serif;\n",
    "    }\n",
    "\n",
    "    .jupyter-js-widgets-example {\n",
    "        padding: 10px;\n",
    "        margin-top: 10px;\n",
    "        margin-bottom: 10px;\n",
    "        background-color: white;\n",
    "        overflow: auto;\n",
    "        box-shadow: 0px 0px 12px 1px rgba(87, 87, 87, 0.2);\n",
    "    }\n",
    "\n",
    "    .widgetarea, .inputarea, .snipetarea {\n",
    "        margin: 5px;\n",
    "    }\n",
    "\n",
    "    .CodeMirror {\n",
    "        border: 1px solid #ccc;\n",
    "        height: auto;\n",
    "        background-color: #f7f7f7;\n",
    "        border-radius: 2px;\n",
    "    }\n",
    "\n",
    "    .CodeMirror-Scroll {\n",
    "        height: auto;\n",
    "    }\n",
    "    </style>\n",
    "    </head>\n",
    "    <body>\n",
    "        <h1>Embedding Jupyter Interactive Widgets</h1>\n",
    "        <div class=\"jupyter-js-widgets-example\">\n",
    "        </div>\n",
    "    </body>\n",
    "</html>\n",
    "```\n",
    "\n",
    "# On the Jupyter Website\n",
    "\n",
    "https://jupyter.org/widgets.html\n",
    "\n",
    "# On the VAEX website\n",
    "\n",
    "http://vaex.astro.rug.nl/\n",
    "\n",
    "# On nbviewer\n",
    "\n",
    "http://nbviewer.jupyter.org/github/ipython/ipywidgets/blob/master/docs/source/examples/Widget%20List.ipynb\n",
    "\n",
    "# In Sphinx\n",
    "\n",
    "http://ipywidgets.readthedocs.io/en/latest/examples/Widget%20List.html\n",
    "\n",
    "http://bqplot.readthedocs.io/en/latest/usage.html"
   ]
  },
  {
   "cell_type": "code",
   "execution_count": null,
   "metadata": {
    "collapsed": true
   },
   "outputs": [],
   "source": []
  }
 ],
 "metadata": {
  "kernelspec": {
   "display_name": "Python 3",
   "language": "python",
   "name": "python3"
  },
  "language_info": {
   "codemirror_mode": {
    "name": "ipython",
    "version": 3
   },
   "file_extension": ".py",
   "mimetype": "text/x-python",
   "name": "python",
   "nbconvert_exporter": "python",
   "pygments_lexer": "ipython3",
   "version": "3.5.2"
  },
  "widgets": {
   "application/vnd.jupyter.widget-state+json": {
    "state": {
     "03fbbd01b3a04ee6a92e55d9273dd76b": {
      "model_module": "bqplot",
      "model_module_version": "*",
      "model_name": "FigureModel",
      "state": {
       "_dom_classes": [],
       "axes": [
        "IPY_MODEL_eb35de6751394c5ab51b2fcd0a906385",
        "IPY_MODEL_04226a5e7eae42de83c534ec48595993"
       ],
       "layout": "IPY_MODEL_99d22e9a4892406e9a45aed8f1a871bb",
       "marks": [
        "IPY_MODEL_35c1faf13e554641a38ffbd881ecdbf6"
       ],
       "scale_x": "IPY_MODEL_21852702f72949cb9a7052e01ac63473",
       "scale_y": "IPY_MODEL_194eb440d52844abadb9a6eb4715d6ee"
      }
     },
     "04226a5e7eae42de83c534ec48595993": {
      "model_module": "bqplot",
      "model_module_version": "*",
      "model_name": "AxisModel",
      "state": {
       "scale": "IPY_MODEL_e5c60689a5bf4e509f95aedf2c084bca",
       "side": "bottom",
       "tick_values": {
        "type": null,
        "values": null
       }
      }
     },
     "05ee73cfd04640bd84345ee797e1fb26": {
      "model_module": "jupyter-js-widgets",
      "model_module_version": "*",
      "model_name": "IntSliderModel",
      "state": {
       "description": "Maximum",
       "layout": "IPY_MODEL_be1a23c345c04258b39b358b2e9d1fbb",
       "max": 200,
       "min": 100,
       "value": 100
      }
     },
     "0816e82389fa4638beec371d7375ab6c": {
      "model_module": "bqplot",
      "model_module_version": "*",
      "model_name": "LinearScaleModel",
      "state": {
       "stabilized": false
      }
     },
     "194eb440d52844abadb9a6eb4715d6ee": {
      "model_module": "bqplot",
      "model_module_version": "*",
      "model_name": "LinearScaleModel",
      "state": {
       "allow_padding": false,
       "max": 1,
       "min": 0,
       "stabilized": false
      }
     },
     "21852702f72949cb9a7052e01ac63473": {
      "model_module": "bqplot",
      "model_module_version": "*",
      "model_name": "LinearScaleModel",
      "state": {
       "allow_padding": false,
       "max": 1,
       "min": 0,
       "stabilized": false
      }
     },
     "2a36a159a2764db8a4a7f98ed1c25e5c": {
      "model_module": "bqplot",
      "model_module_version": "*",
      "model_name": "ScatterModel",
      "state": {
       "_model_module": "bqplot",
       "_model_module_version": "*",
       "_view_module": "bqplot",
       "_view_module_version": "*",
       "apply_clip": true,
       "color": {
        "type": null,
        "values": null
       },
       "colors": [
        "DeepSkyBlue"
       ],
       "display_legend": false,
       "enable_hover": true,
       "hovered_style": {},
       "interactions": {
        "hover": "tooltip"
       },
       "labels": [],
       "msg_throttle": 1,
       "names": {
        "type": null,
        "values": null
       },
       "opacity": {
        "type": null,
        "values": null
       },
       "preserve_domain": {},
       "rotation": {
        "type": null,
        "values": null
       },
       "scales": {
        "x": "IPY_MODEL_46f101f7a1f54da9890110cb230c62f3",
        "y": "IPY_MODEL_0816e82389fa4638beec371d7375ab6c"
       },
       "selected": [],
       "selected_style": {},
       "size": {
        "type": null,
        "values": null
       },
       "skew": {
        "type": null,
        "values": null
       },
       "tooltip": null,
       "tooltip_location": "mouse",
       "tooltip_style": {
        "opacity": 0.9
       },
       "unhovered_style": {},
       "unselected_style": {},
       "visible": true,
       "x": {
        "type": "float64",
        "values": [
         0.5845600307052483,
         -0.13353387722092983,
         -0.6546391317873212,
         -2.0162161339219136,
         -0.03001319099972637,
         0.21322891804141955,
         -0.6700084898439436,
         0.8216102496206984,
         -0.24571817189561046,
         0.8397283947739622,
         0.18358287918158842,
         -0.7847541441130201,
         1.0506534140228923,
         0.8857555845993078,
         0.7933024242789589,
         0.7071051974531447,
         0.39889326631779953,
         1.5427175888679525,
         -0.8000336725245528,
         -0.39991884068555095,
         0.6156489141424946,
         -0.004283286497365859,
         -0.08812213039433146,
         -0.40595720573520916,
         0.8324876526448217,
         0.060953087895505825,
         0.15285630866383218,
         0.43914133416074086,
         1.6876205369652553,
         -0.955514858853781,
         -0.17941061679334339,
         1.0964109304728982,
         -0.7919443137543317,
         1.0281479020963655,
         0.14976900683711375,
         -0.7393601158770354,
         1.0165679046069982,
         1.7548638215146255,
         -0.698435937859638,
         1.1519959795667216,
         0.5519952416946728,
         -0.4351261482817473,
         -1.3192271577680441,
         1.477912520529691,
         0.0038244604294727902,
         0.31403005815222795,
         1.1683094032200565,
         -1.225343316081252,
         1.2228219791647212,
         0.12406111409530331,
         -1.0911344864753891,
         -0.9169886461151756,
         -0.515941773398591,
         0.8158565100527031,
         -1.0489057268253406,
         0.7911477964864205,
         -0.9575177535330022,
         0.06839410440804451,
         -9.559781926839661e-05,
         -0.2603658989867016,
         0.4142071111375744,
         -0.2528034711181546,
         -0.766768139221726,
         0.015449528958016432,
         0.7715900492849588,
         0.8131545066259291,
         0.020308924664445935,
         -1.453977370731911,
         1.5958998021578417,
         -0.24980722937549682,
         -0.4307660316342121,
         0.6726323824614184,
         0.35572513286483587,
         0.7270547145745732,
         0.2077647595392006,
         -0.5625024089679888,
         0.1996812940546405,
         0.012186892210900684,
         -0.361391159448587,
         1.0021263783817327,
         0.0820080396629273,
         0.7988936377842256,
         0.5360965679249535,
         0.101280343875301,
         1.9025181078921085,
         -0.3514863563123928,
         -0.2607780195718057,
         0.47156134389169274,
         0.5912335840951977,
         -1.2404105956156524,
         -1.9103135243227922,
         -0.37453134888199624,
         -0.6340314306071346,
         0.07468836388880917,
         0.07091298434034378,
         -2.702381496556317,
         -0.4043012647028331,
         1.2765263116182037,
         -0.3179737041738652,
         -0.22021481620109304
        ]
       },
       "y": {
        "type": "float64",
        "values": [
         0.7321832993199112,
         0.7013103178545613,
         0.5270800104409413,
         1.9510239515548966,
         -0.30053200592511287,
         0.8228461932486226,
         -0.4404152908418031,
         0.00888686299118163,
         0.17142037017678127,
         0.9097437889277855,
         -0.4732266597752462,
         -0.3545667705476393,
         -0.6384634718197681,
         -0.4057358906838384,
         -0.8954643735584819,
         -0.39251586193346094,
         0.5188124825736734,
         0.9222376649356153,
         0.9647427692090089,
         0.28368296929711606,
         -0.8192086780211322,
         -0.11750911491684511,
         -0.14633791612849073,
         -0.8984194758087027,
         -0.709734212504235,
         0.3484961321207698,
         -0.9499955175014327,
         -1.1398748802536913,
         0.8070207939064681,
         -0.9437059598521271,
         -0.023733506083616403,
         0.7562474163801354,
         0.31058372315866123,
         -0.5761632718092587,
         1.7813223618786465,
         -1.0971700935886959,
         -0.7119138884297416,
         0.08084293622427205,
         0.9866655141183251,
         1.6514612099796162,
         -0.032345357502608314,
         -0.5375746421031378,
         0.9578741134705085,
         -0.3416846101553238,
         0.8173981797517292,
         1.1725894555977623,
         -0.3671758284026104,
         0.8905467724711389,
         0.9853707136128702,
         -0.08536598847883341,
         -0.9469041401058854,
         0.08206093242285643,
         0.9719370145520873,
         0.03057447245013006,
         -0.7134143662367021,
         -0.5135678777041812,
         -1.205116043303605,
         -0.8907286304288242,
         1.0094511900502403,
         1.4683580414624409,
         -0.018910165925579644,
         0.35549405916452226,
         0.7454758674143964,
         1.9652682499759488,
         1.3227472269195506,
         1.449068721549408,
         2.0968052392030425,
         -1.456447816484777,
         0.10792503606195868,
         0.49846255207018336,
         0.6093905265991113,
         -0.07215907094632709,
         0.5451849889157728,
         -1.2864122485802891,
         0.9291037923712033,
         -1.3491140735490048,
         0.2579433435113389,
         0.5071942643848385,
         -1.6312566781945423,
         0.6689913240404296,
         -0.8737916159229779,
         -2.867911213660597,
         1.7405299119324034,
         -0.46521222186070527,
         0.11059347381612383,
         -1.2866816253886482,
         -0.9058600587580661,
         -0.26815138587668047,
         0.23889904004497264,
         0.6597815854393271,
         -0.4505854660676607,
         -0.33739508490698783,
         2.0042646798439434,
         -1.1791804169884772,
         0.932753851402704,
         -0.12009645700853609,
         0.817203376700075,
         -0.024201341149984262,
         -0.5977142113676099,
         -0.44068533610697397
        ]
       }
      }
     },
     "2ebd3a39ba094a269d05b67dfb69e734": {
      "model_module": "bqplot",
      "model_module_version": "*",
      "model_name": "ToolbarModel",
      "state": {
       "figure": "IPY_MODEL_03fbbd01b3a04ee6a92e55d9273dd76b",
       "layout": "IPY_MODEL_404435fe3dc24b5fb74a1e32e09709df"
      }
     },
     "35c1faf13e554641a38ffbd881ecdbf6": {
      "model_module": "bqplot",
      "model_module_version": "*",
      "model_name": "ScatterModel",
      "state": {
       "_model_module": "bqplot",
       "_model_module_version": "*",
       "_view_module": "bqplot",
       "_view_module_version": "*",
       "apply_clip": true,
       "color": {
        "type": null,
        "values": null
       },
       "colors": [
        "DeepSkyBlue"
       ],
       "display_legend": false,
       "enable_hover": true,
       "hovered_style": {},
       "interactions": {
        "hover": "tooltip"
       },
       "labels": [],
       "msg_throttle": 1,
       "names": {
        "type": null,
        "values": null
       },
       "opacity": {
        "type": null,
        "values": null
       },
       "preserve_domain": {},
       "rotation": {
        "type": null,
        "values": null
       },
       "scales": {
        "x": "IPY_MODEL_e5c60689a5bf4e509f95aedf2c084bca",
        "y": "IPY_MODEL_9a30142d03834a80a168b4b34e9a9030"
       },
       "selected": [],
       "selected_style": {},
       "size": {
        "type": null,
        "values": null
       },
       "skew": {
        "type": null,
        "values": null
       },
       "tooltip": null,
       "tooltip_location": "mouse",
       "tooltip_style": {
        "opacity": 0.9
       },
       "unhovered_style": {},
       "unselected_style": {},
       "visible": true,
       "x": {
        "type": "float64",
        "values": [
         1.0468389655937116,
         -0.5986313587251724,
         0.6934084298912263,
         1.1676022220600482,
         -0.5317172740619595,
         0.3502080775102716,
         -0.8689450331789815,
         0.6904997246621674,
         1.3126578849748913,
         1.0395718191962249,
         -0.8831799085357168,
         -0.3228255511790006,
         0.516874446911108,
         -0.9516500253721061,
         -0.3964336848687139,
         0.37788616980104134,
         1.4969918310043615,
         1.4165964853834472,
         -0.33218771378852713,
         -0.3089118049689605,
         0.822978828524901,
         0.9811046268153143,
         0.06301117793007285,
         0.35633568488692313,
         -1.0069681271258502,
         0.42663774494099926,
         -0.2756622759854216,
         -0.021739089670452343,
         -0.3364095125488539,
         -2.443410972561765,
         -0.7941123305245668,
         0.36577566436937403,
         0.48816248284808444,
         -1.0516286840542506,
         0.8310662306833506,
         -0.3670955993670219,
         1.0489983467983908,
         1.4596219202149385,
         0.1498628945713808,
         0.668979719673279,
         -0.32572254635314,
         -0.3562336024293025,
         -1.0688112938948091,
         -0.7740197332296295,
         -0.23445904047312882,
         -0.20914792063669385,
         -0.9007046213276684,
         -1.058493721323016,
         0.32568155128395426,
         0.8813648006726506,
         0.8212418356883756,
         -0.9349290473337355,
         0.03281595166988257,
         -0.10018708518777826,
         0.28384656683723647,
         1.5852926779003218,
         0.15490753825100909,
         -0.25691441250217767,
         0.6668287335723387,
         -1.3469037495329423,
         -0.44050337988032473,
         0.023136663513525762,
         -0.09100052212879171,
         0.9550696117361612,
         0.5806953006685979,
         -1.204793237250316,
         -1.0709442632557915,
         0.1825780788135261,
         -0.47477413680197617,
         0.8943553697415886,
         0.027722714990167208,
         -0.49189575621671183,
         0.8654195787779387,
         -0.25614967730200305,
         0.718212927043534,
         -0.5949390516162014,
         2.005139256751015,
         0.09343847392236537,
         -0.6537309577304766,
         1.5546281297140467,
         0.2560264063362629,
         0.7253435322150851,
         0.0709285241294024,
         1.8029797520130753,
         2.0836916862702024,
         0.35857064704781444,
         1.2281445886937785,
         0.7371925547871708,
         0.376134508850334,
         -0.798788462346416,
         0.6377268429461658,
         -0.37007649427089623,
         -0.16050393042796107,
         -0.05239286237388839,
         -1.1922139013357356,
         0.2676717786716209,
         0.44741884799613113,
         0.058587448861251445,
         0.049329660328603156,
         1.5755775583509564
        ]
       },
       "y": {
        "type": "float64",
        "values": [
         -0.06405763344125155,
         0.5005319942297071,
         0.7706365428813943,
         2.217832117738148,
         0.06481907314922791,
         -0.5692622219551813,
         0.6022007435133536,
         -0.5775417320068197,
         0.9036594529078709,
         0.19632566190056133,
         -1.5124171471673855,
         -0.19663598160160137,
         1.1770676080107052,
         0.40488620240502315,
         -0.516476641716227,
         -0.019294835893304496,
         -0.18267201499834465,
         -0.6066800288218538,
         -0.8635985277011635,
         -0.07351992686948455,
         1.2963516174183367,
         0.5601875145056844,
         -1.6325694666153248,
         0.07392240384082566,
         0.3936668801088162,
         0.699169921436067,
         0.08442917309929956,
         -0.4732180524226561,
         -2.294283270730038,
         0.5597186376353551,
         0.15691686238133487,
         1.3264492214434322,
         -0.3851849230154547,
         0.005998940417043368,
         -0.8982707266077183,
         0.9181547571533656,
         -0.8640527429242271,
         -0.7993345290979742,
         -0.7481216251671019,
         -0.38767841146386334,
         0.03473719166766518,
         1.1738787684676801,
         0.7715382165011795,
         1.7892396071645527,
         0.33284235121620354,
         -0.6689003726685623,
         0.27231608439536165,
         1.8142600795288928,
         0.17600450897559877,
         -0.5869081636582799,
         0.22171944623727322,
         -0.3716588836505233,
         -0.9345513621877778,
         -0.01591153973092465,
         -0.0014865786454572553,
         -0.8170108665127948,
         0.5765721875105771,
         1.9527515806123517,
         -0.4517394041815084,
         1.2233333778234474,
         1.3587790729328102,
         -0.07215932216046615,
         -0.2579291218069914,
         -0.8539132575720336,
         1.2546229970577951,
         0.2776058697596093,
         0.5188164669147102,
         -0.12720553247423047,
         1.2626846131308989,
         -1.70133554966918,
         0.5466437913284432,
         0.3334257416951377,
         -1.84517884616734,
         -0.6308485757396034,
         -0.48713899700117064,
         -0.9922135090070231,
         -1.3314231482435919,
         0.012264475663092215,
         -0.3574784923155464,
         -0.5550985453005057,
         -0.16314126875959423,
         -1.725250252064595,
         0.6933871853508182,
         -0.7862091331848956,
         -0.49487936332668014,
         -2.31628067161074,
         -1.7814589021717886,
         -0.19948610696987945,
         0.7572935809438383,
         -1.0697907285660786,
         -0.18214701121814375,
         0.9518308802051413,
         -0.31620410424483825,
         -0.4867333567299903,
         0.030098071058304966,
         0.10282901836144637,
         -0.35310490384652515,
         -0.8806307269261804,
         -1.0418282959628082,
         0.04456606020534373
        ]
       }
      }
     },
     "3aa80dc8b7e244d39b5a6b18b7a72c60": {
      "model_module": "jupyter-js-widgets",
      "model_module_version": "*",
      "model_name": "LayoutModel",
      "state": {}
     },
     "3af11d39315541a2bfc19db65dd6278e": {
      "model_module": "bqplot",
      "model_module_version": "*",
      "model_name": "AxisModel",
      "state": {
       "scale": "IPY_MODEL_46f101f7a1f54da9890110cb230c62f3",
       "side": "bottom",
       "tick_values": {
        "type": null,
        "values": null
       }
      }
     },
     "404435fe3dc24b5fb74a1e32e09709df": {
      "model_module": "jupyter-js-widgets",
      "model_module_version": "*",
      "model_name": "LayoutModel",
      "state": {}
     },
     "46f101f7a1f54da9890110cb230c62f3": {
      "model_module": "bqplot",
      "model_module_version": "*",
      "model_name": "LinearScaleModel",
      "state": {
       "stabilized": false
      }
     },
     "47ed4dce441f4da1a6a559bb107658dd": {
      "model_module": "bqplot",
      "model_module_version": "*",
      "model_name": "ToolbarModel",
      "state": {
       "figure": "IPY_MODEL_7cbf611823f84ee3ae582cc0f612719f",
       "layout": "IPY_MODEL_f2da21165d7c45bca97229b2086e2d8f"
      }
     },
     "55718a50d6c64a52833269a4e75068e7": {
      "model_module": "jupyter-js-widgets",
      "model_module_version": "*",
      "model_name": "LayoutModel",
      "state": {}
     },
     "7cbf611823f84ee3ae582cc0f612719f": {
      "model_module": "bqplot",
      "model_module_version": "*",
      "model_name": "FigureModel",
      "state": {
       "_dom_classes": [],
       "axes": [
        "IPY_MODEL_8be171ad2a2449f89f96c2ff06331449",
        "IPY_MODEL_3af11d39315541a2bfc19db65dd6278e"
       ],
       "layout": "IPY_MODEL_848524eda58c4e8c9ec10db7beffcc10",
       "marks": [
        "IPY_MODEL_2a36a159a2764db8a4a7f98ed1c25e5c"
       ],
       "scale_x": "IPY_MODEL_ccf15059a19e494684f3921afa63d870",
       "scale_y": "IPY_MODEL_a5a72e5104be46058f11d09589ccca48"
      }
     },
     "848524eda58c4e8c9ec10db7beffcc10": {
      "model_module": "jupyter-js-widgets",
      "model_module_version": "*",
      "model_name": "LayoutModel",
      "state": {
       "height": "400px",
       "width": "800px"
      }
     },
     "84f68da548144991aecfbde50b0fa4cc": {
      "model_module": "jupyter-js-widgets",
      "model_module_version": "*",
      "model_name": "VBoxModel",
      "state": {
       "children": [
        "IPY_MODEL_05ee73cfd04640bd84345ee797e1fb26",
        "IPY_MODEL_a3a659321c0f49af9e2c732a9a926892"
       ],
       "layout": "IPY_MODEL_3aa80dc8b7e244d39b5a6b18b7a72c60"
      }
     },
     "8be171ad2a2449f89f96c2ff06331449": {
      "model_module": "bqplot",
      "model_module_version": "*",
      "model_name": "AxisModel",
      "state": {
       "orientation": "vertical",
       "scale": "IPY_MODEL_0816e82389fa4638beec371d7375ab6c",
       "side": "left",
       "tick_values": {
        "type": null,
        "values": null
       }
      }
     },
     "99d22e9a4892406e9a45aed8f1a871bb": {
      "model_module": "jupyter-js-widgets",
      "model_module_version": "*",
      "model_name": "LayoutModel",
      "state": {
       "height": "400px",
       "width": "600px"
      }
     },
     "9a30142d03834a80a168b4b34e9a9030": {
      "model_module": "bqplot",
      "model_module_version": "*",
      "model_name": "LinearScaleModel",
      "state": {
       "stabilized": false
      }
     },
     "a3a659321c0f49af9e2c732a9a926892": {
      "model_module": "jupyter-js-widgets",
      "model_module_version": "*",
      "model_name": "IntSliderModel",
      "state": {
       "description": "Value",
       "layout": "IPY_MODEL_d684ad9a472b42a895e95f3b1081a39e",
       "value": 40
      }
     },
     "a5a72e5104be46058f11d09589ccca48": {
      "model_module": "bqplot",
      "model_module_version": "*",
      "model_name": "LinearScaleModel",
      "state": {
       "allow_padding": false,
       "max": 1,
       "min": 0,
       "stabilized": false
      }
     },
     "bc3f572fd24c4beabd17b8ed94c2e74c": {
      "model_module": "jupyter-js-widgets",
      "model_module_version": "*",
      "model_name": "DirectionalLinkModel",
      "state": {
       "source": [
        "IPY_MODEL_05ee73cfd04640bd84345ee797e1fb26",
        "value"
       ],
       "target": [
        "IPY_MODEL_a3a659321c0f49af9e2c732a9a926892",
        "max"
       ]
      }
     },
     "be1a23c345c04258b39b358b2e9d1fbb": {
      "model_module": "jupyter-js-widgets",
      "model_module_version": "*",
      "model_name": "LayoutModel",
      "state": {}
     },
     "cc5f6865b1694b39a410e448c191894a": {
      "model_module": "jupyter-js-widgets",
      "model_module_version": "*",
      "model_name": "LayoutModel",
      "state": {}
     },
     "ccf15059a19e494684f3921afa63d870": {
      "model_module": "bqplot",
      "model_module_version": "*",
      "model_name": "LinearScaleModel",
      "state": {
       "allow_padding": false,
       "max": 1,
       "min": 0,
       "stabilized": false
      }
     },
     "d684ad9a472b42a895e95f3b1081a39e": {
      "model_module": "jupyter-js-widgets",
      "model_module_version": "*",
      "model_name": "LayoutModel",
      "state": {}
     },
     "e5c60689a5bf4e509f95aedf2c084bca": {
      "model_module": "bqplot",
      "model_module_version": "*",
      "model_name": "LinearScaleModel",
      "state": {
       "stabilized": false
      }
     },
     "eb35de6751394c5ab51b2fcd0a906385": {
      "model_module": "bqplot",
      "model_module_version": "*",
      "model_name": "AxisModel",
      "state": {
       "orientation": "vertical",
       "scale": "IPY_MODEL_9a30142d03834a80a168b4b34e9a9030",
       "side": "left",
       "tick_values": {
        "type": null,
        "values": null
       }
      }
     },
     "ed45bc0002f242d984b5795c2108506d": {
      "model_module": "jupyter-js-widgets",
      "model_module_version": "*",
      "model_name": "VBoxModel",
      "state": {
       "children": [
        "IPY_MODEL_03fbbd01b3a04ee6a92e55d9273dd76b",
        "IPY_MODEL_2ebd3a39ba094a269d05b67dfb69e734"
       ],
       "layout": "IPY_MODEL_55718a50d6c64a52833269a4e75068e7"
      }
     },
     "f2da21165d7c45bca97229b2086e2d8f": {
      "model_module": "jupyter-js-widgets",
      "model_module_version": "*",
      "model_name": "LayoutModel",
      "state": {}
     },
     "f5f57bff331e423786d37865d9459439": {
      "model_module": "jupyter-js-widgets",
      "model_module_version": "*",
      "model_name": "VBoxModel",
      "state": {
       "children": [
        "IPY_MODEL_7cbf611823f84ee3ae582cc0f612719f",
        "IPY_MODEL_47ed4dce441f4da1a6a559bb107658dd"
       ],
       "layout": "IPY_MODEL_cc5f6865b1694b39a410e448c191894a"
      }
     }
    },
    "version_major": 1,
    "version_minor": 0
   }
  }
 },
 "nbformat": 4,
 "nbformat_minor": 1
}
