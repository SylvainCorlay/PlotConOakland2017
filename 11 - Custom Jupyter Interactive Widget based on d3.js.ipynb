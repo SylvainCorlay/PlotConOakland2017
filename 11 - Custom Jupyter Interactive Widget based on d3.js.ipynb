{
 "cells": [
  {
   "cell_type": "code",
   "execution_count": 1,
   "metadata": {
    "collapsed": true
   },
   "outputs": [],
   "source": [
    "import ipywidgets as widgets\n",
    "from traitlets import Unicode, List, Int"
   ]
  },
  {
   "cell_type": "markdown",
   "metadata": {},
   "source": [
    "# Example from http://bl.ocks.org/mbostock/4060366"
   ]
  },
  {
   "cell_type": "code",
   "execution_count": 2,
   "metadata": {},
   "outputs": [
    {
     "data": {
      "application/javascript": [
       "\n",
       "var s = document.createElement(\"style\");\n",
       "s.innerHTML = `\n",
       "path {\n",
       "  stroke: #fff;\n",
       "}\n",
       "\n",
       "path:first-child {\n",
       "  fill: yellow !important;\n",
       "}\n",
       "\n",
       "circle {\n",
       "  fill: #000;\n",
       "  pointer-events: none;\n",
       "}\n",
       "\n",
       ".q0-9 { fill: rgb(197,27,125); }\n",
       ".q1-9 { fill: rgb(222,119,174); }\n",
       ".q2-9 { fill: rgb(241,182,218); }\n",
       ".q3-9 { fill: rgb(253,224,239); }\n",
       ".q4-9 { fill: rgb(247,247,247); }\n",
       ".q5-9 { fill: rgb(230,245,208); }\n",
       ".q6-9 { fill: rgb(184,225,134); }\n",
       ".q7-9 { fill: rgb(127,188,65); }\n",
       ".q8-9 { fill: rgb(77,146,33); }`;\n",
       "\n",
       "document.getElementsByTagName(\"head\")[0].appendChild(s);"
      ],
      "text/plain": [
       "<IPython.core.display.Javascript object>"
      ]
     },
     "metadata": {},
     "output_type": "display_data"
    }
   ],
   "source": [
    "%%javascript\n",
    "\n",
    "var s = document.createElement(\"style\");\n",
    "s.innerHTML = `\n",
    "path {\n",
    "  stroke: #fff;\n",
    "}\n",
    "\n",
    "path:first-child {\n",
    "  fill: yellow !important;\n",
    "}\n",
    "\n",
    "circle {\n",
    "  fill: #000;\n",
    "  pointer-events: none;\n",
    "}\n",
    "\n",
    ".q0-9 { fill: rgb(197,27,125); }\n",
    ".q1-9 { fill: rgb(222,119,174); }\n",
    ".q2-9 { fill: rgb(241,182,218); }\n",
    ".q3-9 { fill: rgb(253,224,239); }\n",
    ".q4-9 { fill: rgb(247,247,247); }\n",
    ".q5-9 { fill: rgb(230,245,208); }\n",
    ".q6-9 { fill: rgb(184,225,134); }\n",
    ".q7-9 { fill: rgb(127,188,65); }\n",
    ".q8-9 { fill: rgb(77,146,33); }`;\n",
    "\n",
    "document.getElementsByTagName(\"head\")[0].appendChild(s);"
   ]
  },
  {
   "cell_type": "code",
   "execution_count": 3,
   "metadata": {
    "collapsed": true
   },
   "outputs": [],
   "source": [
    "class MyD3(widgets.DOMWidget):\n",
    "    _view_name = Unicode('HelloView').tag(sync=True)\n",
    "    _view_module = Unicode('myd3').tag(sync=True)\n",
    "    width = Int().tag(sync=True)\n",
    "    height = Int().tag(sync=True)\n",
    "    vertices = List().tag(sync=True)"
   ]
  },
  {
   "cell_type": "code",
   "execution_count": 50,
   "metadata": {},
   "outputs": [
    {
     "data": {
      "application/javascript": [
       "require.undef('myd3');\n",
       "\n",
       "define('myd3', [\"jupyter-js-widgets\",\n",
       "                \"https://cdnjs.cloudflare.com/ajax/libs/d3/3.5.17/d3.js\"], function(widgets, d3) {\n",
       "    \n",
       "    var HelloView = widgets.DOMWidgetView.extend({\n",
       "        \n",
       "        render: function() { \n",
       "            var that = this;\n",
       "            this.width = this.model.get('width');\n",
       "            this.height = this.model.get('height');\n",
       "            that.vertices = this.model.get('vertices');\n",
       "            \n",
       "            that.voronoi = d3.geom.voronoi()\n",
       "                .clipExtent([[0, 0], [that.width, that.height]]);\n",
       "\n",
       "            this.svg = d3.select(this.el).append(\"svg\")\n",
       "                .attr(\"width\", that.width)\n",
       "                .attr(\"height\", that.height)\n",
       "                .on(\"mousemove\", function() { \n",
       "                    that.vertices[0] = d3.mouse(this);\n",
       "                    that.redraw();\n",
       "                });\n",
       "            \n",
       "            var g1 = this.svg.append(\"g\");\n",
       "            this.path = g1.selectAll(\"path\");\n",
       "            var g2 = this.svg.append(\"g\");\n",
       "            this.circle = g2.selectAll(\"circle\");\n",
       "\n",
       "            this.model.on('change:vertices', this.update_vertices, this);\n",
       "            this.redraw();\n",
       "        },\n",
       "        \n",
       "        update_vertices: function() {\n",
       "            this.redraw();\n",
       "        },\n",
       "        \n",
       "        redraw: function () {\n",
       "          this.vertices = this.model.get('vertices');\n",
       "\n",
       "          this.path = this.path\n",
       "              .data(this.voronoi(this.vertices), this.polygon);\n",
       "          this.path.exit().remove();\n",
       "          this.path.enter().append(\"path\")\n",
       "              .attr(\"class\", function(d, i) { return \"q\" + (i % 9) + \"-9\"; })\n",
       "              .attr(\"d\", this.polygon);\n",
       "          this.path.order();\n",
       "\n",
       "          this.circle = this.circle\n",
       "              .data([]);\n",
       "          this.circle.exit().remove();\n",
       "         \n",
       "          this.circle = this.circle\n",
       "              .data(this.vertices.slice(1));        \n",
       "\n",
       "          this.circle.enter().append(\"circle\")\n",
       "            .attr(\"transform\", function(d) { \n",
       "              return \"translate(\" + d + \")\";\n",
       "            })\n",
       "            .attr(\"r\", 1.5);\n",
       "        },\n",
       "        \n",
       "        polygon: function (d) {\n",
       "          return \"M\" + d.join(\"L\") + \"Z\";\n",
       "        }\n",
       "    });\n",
       "    \n",
       "    return {\n",
       "        HelloView : HelloView\n",
       "    };\n",
       "});"
      ],
      "text/plain": [
       "<IPython.core.display.Javascript object>"
      ]
     },
     "metadata": {},
     "output_type": "display_data"
    }
   ],
   "source": [
    "%%javascript\n",
    "require.undef('myd3');\n",
    "\n",
    "define('myd3', [\"jupyter-js-widgets\",\n",
    "                \"https://cdnjs.cloudflare.com/ajax/libs/d3/3.5.17/d3.js\"], function(widgets, d3) {\n",
    "    \n",
    "    var HelloView = widgets.DOMWidgetView.extend({\n",
    "        \n",
    "        render: function() { \n",
    "            var that = this;\n",
    "            this.width = this.model.get('width');\n",
    "            this.height = this.model.get('height');\n",
    "            that.vertices = this.model.get('vertices');\n",
    "            \n",
    "            that.voronoi = d3.geom.voronoi()\n",
    "                .clipExtent([[0, 0], [that.width, that.height]]);\n",
    "\n",
    "            this.svg = d3.select(this.el).append(\"svg\")\n",
    "                .attr(\"width\", that.width)\n",
    "                .attr(\"height\", that.height)\n",
    "                .on(\"mousemove\", function() { \n",
    "                    that.vertices[0] = d3.mouse(this);\n",
    "                    that.redraw();\n",
    "                });\n",
    "            \n",
    "            var g1 = this.svg.append(\"g\");\n",
    "            this.path = g1.selectAll(\"path\");\n",
    "            var g2 = this.svg.append(\"g\");\n",
    "            this.circle = g2.selectAll(\"circle\");\n",
    "\n",
    "            this.model.on('change:vertices', this.update_vertices, this);\n",
    "            this.redraw();\n",
    "        },\n",
    "        \n",
    "        update_vertices: function() {\n",
    "            this.redraw();\n",
    "        },\n",
    "        \n",
    "        redraw: function () {\n",
    "          this.vertices = this.model.get('vertices');\n",
    "\n",
    "          this.path = this.path\n",
    "              .data(this.voronoi(this.vertices), this.polygon);\n",
    "          this.path.exit().remove();\n",
    "          this.path.enter().append(\"path\")\n",
    "              .attr(\"class\", function(d, i) { return \"q\" + (i % 9) + \"-9\"; })\n",
    "              .attr(\"d\", this.polygon);\n",
    "          this.path.order();\n",
    "\n",
    "          this.circle = this.circle\n",
    "              .data([]);\n",
    "          this.circle.exit().remove();\n",
    "         \n",
    "          this.circle = this.circle\n",
    "              .data(this.vertices.slice(1));        \n",
    "\n",
    "          this.circle.enter().append(\"circle\")\n",
    "            .attr(\"transform\", function(d) { \n",
    "              return \"translate(\" + d + \")\";\n",
    "            })\n",
    "            .attr(\"r\", 1.5);\n",
    "        },\n",
    "        \n",
    "        polygon: function (d) {\n",
    "          return \"M\" + d.join(\"L\") + \"Z\";\n",
    "        }\n",
    "    });\n",
    "    \n",
    "    return {\n",
    "        HelloView : HelloView\n",
    "    };\n",
    "});"
   ]
  },
  {
   "cell_type": "code",
   "execution_count": 51,
   "metadata": {},
   "outputs": [
    {
     "data": {
      "application/vnd.jupyter.widget-view+json": {
       "model_id": "331207d969324193ae1b8bb4ebddfb9e"
      }
     },
     "metadata": {},
     "output_type": "display_data"
    }
   ],
   "source": [
    "import numpy as np\n",
    "sample_size = 100\n",
    "width = 750\n",
    "height = 300\n",
    "\n",
    "m = MyD3(vertices=(np.random.rand(sample_size, 2) * np.array([width, height])).tolist(),\n",
    "     height=height, width=width)\n",
    "m"
   ]
  },
  {
   "cell_type": "code",
   "execution_count": 60,
   "metadata": {
    "collapsed": true
   },
   "outputs": [],
   "source": [
    "m.vertices = (np.random.rand(sample_size, 2) * np.array([width, height])).tolist()"
   ]
  }
 ],
 "metadata": {
  "kernelspec": {
   "display_name": "Python 3",
   "language": "python",
   "name": "python3"
  },
  "language_info": {
   "codemirror_mode": {
    "name": "ipython",
    "version": 3
   },
   "file_extension": ".py",
   "mimetype": "text/x-python",
   "name": "python",
   "nbconvert_exporter": "python",
   "pygments_lexer": "ipython3",
   "version": "3.6.0"
  },
  "widgets": {
   "state": {
    "db0f15e2a3eb4e6e8f182bdfc1ab09f1": {
     "views": [
      {
       "cell_index": 5
      }
     ]
    }
   },
   "version": "2.0.0-dev"
  }
 },
 "nbformat": 4,
 "nbformat_minor": 1
}
