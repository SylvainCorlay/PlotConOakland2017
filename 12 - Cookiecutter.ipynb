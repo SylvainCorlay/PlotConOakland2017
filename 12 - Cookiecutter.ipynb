{
 "cells": [
  {
   "cell_type": "markdown",
   "metadata": {},
   "source": [
    "# A `CookieCutter` template project\n",
    "\n",
    " - Takes care of all the boilerplate for creating a new custom widget project\n",
    " - Based on Audrey Roy Greenfeld's (@audreyr) cookiecutter project.\n",
    " - URL of the project: https://github.com/jupyter/widget-cookiecutter\n",
    " \n",
    "<img src=\"cookiecutter.jpg\" style=\"width:200px\"></img>\n",
    "\n",
    "```\n",
    "pip install cookiecutter\n",
    "cookiecutter https://github.com/jupyter/widget-cookiecutter.git\n",
    "```\n",
    "\n",
    "The cookiecutter project is meant to help custom widget authors get started with the packaging and the distribution of Jupyter interactive widgets.\n",
    "\n",
    "It produces a project for a Jupyter interactive widget library following the current best practices for using interactive widgets. An implementation for a placeholder \"Hello World\" widget is provided"
   ]
  }
 ],
 "metadata": {
  "kernelspec": {
   "display_name": "Python 3",
   "language": "python",
   "name": "python3"
  },
  "language_info": {
   "codemirror_mode": {
    "name": "ipython",
    "version": 3
   },
   "file_extension": ".py",
   "mimetype": "text/x-python",
   "name": "python",
   "nbconvert_exporter": "python",
   "pygments_lexer": "ipython3",
   "version": "3.5.2"
  },
  "widgets": {
   "state": {
    "0a45daa2ea014fcc986361fd95f7528a": {
     "views": []
    },
    "1238873377c747cbae87d19bd5249a16": {
     "views": []
    },
    "187e1e9eb8b1457cb2332ed4d52251c0": {
     "views": []
    },
    "1cf0df26e55e4c9a9d6d3ad7d4d99804": {
     "views": []
    },
    "1eeb659776084a6b9fa7a43679dd1c4e": {
     "views": []
    },
    "246f525e266c4318b1cb2ce6bc67a6f3": {
     "views": []
    },
    "2cac5d62bd624392bf72a2fab4a6b49f": {
     "views": []
    },
    "2cc990dd6c3b4412a61296de2aa7bb9c": {
     "views": []
    },
    "2cd16150b3364ec8b4189efadea417d2": {
     "views": []
    },
    "2dda1b94b7bd44d899d2a4ed2deb516a": {
     "views": []
    },
    "32f3c5b2a2b64cbf8a672c68f2f620c4": {
     "views": []
    },
    "332d9b103e4145639db47bce8a013065": {
     "views": []
    },
    "3dfadfa09f9a4b2390c6ad1b7a463d4a": {
     "views": [
      {
       "cell_index": 31
      }
     ]
    },
    "419a75fe829249c5b44ab91bb6e3f37e": {
     "views": []
    },
    "43d36e9f0757401eac2ed7134c65dae0": {
     "views": []
    },
    "51bc1d9354384a5bb9d3dede2846ef16": {
     "views": []
    },
    "53a2b4644a514ceca8be66dcf9cf08dd": {
     "views": []
    },
    "5b4bfc0da22d41169c94a559ef74bffa": {
     "views": []
    },
    "5e1d55b64f234d5c8f46775251de49b5": {
     "views": [
      {
       "cell_index": 25
      }
     ]
    },
    "62d6fe0a85454f19b5b9bedbf8031f22": {
     "views": []
    },
    "630946251a4847a08c2b7f8491ed1f10": {
     "views": []
    },
    "72604c8cf96e42c9947d79aad45e9e5f": {
     "views": []
    },
    "742068d440854fc680dda29bb0b2e28a": {
     "views": []
    },
    "7459e063d8534016a64f1a87a40c1494": {
     "views": []
    },
    "830fc44d73c84b11afad31075770fb61": {
     "views": []
    },
    "83185247ccd74136be0efdd131ccf552": {
     "views": []
    },
    "8961d4b884d24e958082c1c51c063ec9": {
     "views": []
    },
    "8a243917605c4b35b46af2870925e680": {
     "views": []
    },
    "8a7acb6d057c4922995145e4f29da6bb": {
     "views": []
    },
    "8bbb2fbe822c4f728c0e1d72c0523164": {
     "views": [
      {
       "cell_index": 14
      }
     ]
    },
    "8d0d64ccc1bf43119c8764b3829ebf47": {
     "views": []
    },
    "95c9c96cebf14ef3ba06b20d534a213a": {
     "views": [
      {
       "cell_index": 33
      }
     ]
    },
    "9ac41f12377e43cfb5030952c6c59746": {
     "views": []
    },
    "9d851da757a5421bb6c894d2ef7c2e9a": {
     "views": [
      {
       "cell_index": 38
      }
     ]
    },
    "9f4f30f23b69416d9011abbe8ba221a5": {
     "views": []
    },
    "a14e49bce2094b89918268d1a2903545": {
     "views": []
    },
    "a282dcf31a6b4f18b61b8a6d13fe19c8": {
     "views": []
    },
    "a4b466813ae94a4e8831c86b9f1a86f4": {
     "views": []
    },
    "a71a2bc8732044db83153ea56b545d4b": {
     "views": []
    },
    "c0b5421f9a104f84bbfba02c2bab03a4": {
     "views": []
    },
    "c1403f69c9fd424ba7274da1f1e4ab13": {
     "views": []
    },
    "c4cfee50863b4b23a0495280153cfe62": {
     "views": []
    },
    "c637e7868a6a43b58dd517934d815f13": {
     "views": [
      {
       "cell_index": 34
      }
     ]
    },
    "d21679211c4d4c76b429887955d1f02f": {
     "views": [
      {
       "cell_index": 34
      }
     ]
    },
    "d4e2e80d15cb494d8ba3bb14c58f9063": {
     "views": []
    },
    "d68c8029f5aa41729511f4e9c7056d9f": {
     "views": []
    },
    "d992d247eae942a491ed9429f9ee7701": {
     "views": []
    },
    "e39fb39c2bcc4bef8d5e05db9eb2acde": {
     "views": []
    },
    "e4191810eb4b45d8a538728c9f16748f": {
     "views": []
    },
    "fc77cdd9466d4e9aa439de41b74e0d1b": {
     "views": []
    }
   },
   "version": "1.1.2"
  }
 },
 "nbformat": 4,
 "nbformat_minor": 1
}
